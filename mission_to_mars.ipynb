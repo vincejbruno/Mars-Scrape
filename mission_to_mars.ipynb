{
 "cells": [
  {
   "cell_type": "code",
   "execution_count": 3,
   "metadata": {},
   "outputs": [],
   "source": [
    "import pandas as pd\n",
    "from bs4 import BeautifulSoup as bs\n",
    "import requests\n",
    "from splinter import Browser"
   ]
  },
  {
   "cell_type": "code",
   "execution_count": 4,
   "metadata": {},
   "outputs": [],
   "source": [
    "executable_path = {'executable_path': '/usr/local/bin/chromedriver'}\n",
    "browser = Browser('chrome', **executable_path, headless=False)"
   ]
  },
  {
   "cell_type": "markdown",
   "metadata": {
    "collapsed": true
   },
   "source": [
    "# Scrape everything\n"
   ]
  },
  {
   "cell_type": "code",
   "execution_count": 5,
   "metadata": {},
   "outputs": [
    {
     "name": "stdout",
     "output_type": "stream",
     "text": [
      "NASA's Curiosity Rover Finds an Ancient Oasis on Mars\n",
      "New evidence suggests salty, shallow ponds once dotted a Martian crater — a sign of the planet's drying climate.\n"
     ]
    }
   ],
   "source": [
    "url = 'https://mars.nasa.gov/news/'\n",
    "browser.visit(url)\n",
    "\n",
    "html = browser.html\n",
    "soup = bs(html, 'html.parser')\n",
    "\n",
    "title = soup.find('div', class_= \"content_title\")\n",
    "\n",
    "news_title = title.text\n",
    "print(news_title)\n",
    "\n",
    "html = browser.html\n",
    "soup = bs(html, 'html.parser')\n",
    "\n",
    "body = soup.find('div', class_= \"article_teaser_body\")\n",
    "\n",
    "body_text = body.text\n",
    "print(body_text)\n"
   ]
  },
  {
   "cell_type": "code",
   "execution_count": 6,
   "metadata": {},
   "outputs": [],
   "source": [
    "# site 2 \n",
    "url = 'https://www.jpl.nasa.gov/spaceimages/?search=&category=Mars'\n",
    "s_url = 'https://www.jpl.nasa.gov'\n",
    "browser.visit(url)\n",
    "html=browser.html\n",
    "soup=bs(html,'html.parser')\n",
    "featured_image = soup.find('article',class_=\"carousel_item\")['style']\n",
    "featured_image = featured_image[23:-3]\n",
    "featured_image_path = s_url + featured_image"
   ]
  },
  {
   "cell_type": "code",
   "execution_count": 7,
   "metadata": {},
   "outputs": [
    {
     "name": "stdout",
     "output_type": "stream",
     "text": [
      "InSight sol 310 (2019-10-10) low -102.2ºC (-152.0ºF) high -26.6ºC (-15.8ºF)\n",
      "winds from the SSE at 5.0 m/s (11.2 mph) gusting to 19.1 m/s (42.8 mph)\n",
      "pressure at 7.20 hPa\n"
     ]
    },
    {
     "data": {
      "text/plain": [
       "'InSight sol 310 (2019-10-10) low -102.2ºC (-152.0ºF) high -26.6ºC (-15.8ºF)\\nwinds from the SSE at 5.0 m/s (11.2 mph) gusting to 19.1 m/s (42.8 mph)\\npressure at 7.20 hPa'"
      ]
     },
     "execution_count": 7,
     "metadata": {},
     "output_type": "execute_result"
    }
   ],
   "source": [
    "twitter_url = 'https://twitter.com/marswxreport?lang=en'\n",
    "browser.visit(twitter_url)\n",
    "\n",
    "html = browser.html\n",
    "soup = bs(html, 'html.parser')\n",
    "\n",
    "\n",
    "latest_tweet = soup.find('p', class_= \"tweet-text\")\n",
    "\n",
    "latest_tweet = latest_tweet.find(text=True, recursive=False)\n",
    "print(latest_tweet)\n",
    "\n",
    "latest_tweet\n",
    "\n",
    "\n",
    "# Example:\n",
    "# mars_weather = 'Sol 1801 (Aug 30, 2017), Sunny, high -21C/-5F, low -80C/-112F, pressure at 8.82 hPa, daylight 06:09-17:55'"
   ]
  },
  {
   "cell_type": "code",
   "execution_count": 8,
   "metadata": {},
   "outputs": [
    {
     "data": {
      "text/plain": [
       "'<table border=\"1\" class=\"dataframe\">\\n  <thead>\\n    <tr style=\"text-align: right;\">\\n      <th></th>\\n      <th>Mars - Earth Comparison</th>\\n      <th>Mars</th>\\n      <th>Earth</th>\\n    </tr>\\n  </thead>\\n  <tbody>\\n    <tr>\\n      <th>0</th>\\n      <td>Diameter:</td>\\n      <td>6,779 km</td>\\n      <td>12,742 km</td>\\n    </tr>\\n    <tr>\\n      <th>1</th>\\n      <td>Mass:</td>\\n      <td>6.39 × 10^23 kg</td>\\n      <td>5.97 × 10^24 kg</td>\\n    </tr>\\n    <tr>\\n      <th>2</th>\\n      <td>Moons:</td>\\n      <td>2</td>\\n      <td>1</td>\\n    </tr>\\n    <tr>\\n      <th>3</th>\\n      <td>Distance from Sun:</td>\\n      <td>227,943,824 km</td>\\n      <td>149,598,262 km</td>\\n    </tr>\\n    <tr>\\n      <th>4</th>\\n      <td>Length of Year:</td>\\n      <td>687 Earth days</td>\\n      <td>365.24 days</td>\\n    </tr>\\n    <tr>\\n      <th>5</th>\\n      <td>Temperature:</td>\\n      <td>-153 to 20 °C</td>\\n      <td>-88 to 58°C</td>\\n    </tr>\\n  </tbody>\\n</table>'"
      ]
     },
     "execution_count": 8,
     "metadata": {},
     "output_type": "execute_result"
    }
   ],
   "source": [
    "facts_url = 'https://space-facts.com/mars/'\n",
    "\n",
    "# use pandas to parse the table\n",
    "facts_df = pd.read_html(facts_url)[0]\n",
    "\n",
    "# convert facts_df to a html string and add to dictionary.\n",
    "html_string = facts_df.to_html()\n",
    "html_string"
   ]
  },
  {
   "cell_type": "code",
   "execution_count": 9,
   "metadata": {},
   "outputs": [
    {
     "name": "stdout",
     "output_type": "stream",
     "text": [
      "https://astrogeology.usgs.gov/cache/images/cfa62af2557222a02478f1fcd781d445_cerberus_enhanced.tif_full.jpg\n",
      "https://astrogeology.usgs.gov/cache/images/3cdd1cbf5e0813bba925c9030d13b62e_schiaparelli_enhanced.tif_full.jpg\n",
      "https://astrogeology.usgs.gov/cache/images/ae209b4e408bb6c3e67b6af38168cf28_syrtis_major_enhanced.tif_full.jpg\n",
      "https://astrogeology.usgs.gov/cache/images/7cf2da4bf549ed01c17f206327be4db7_valles_marineris_enhanced.tif_full.jpg\n"
     ]
    }
   ],
   "source": [
    "# Image 1\n",
    "url = 'https://astrogeology.usgs.gov/search/results?q=hemisphere+enhanced&k1=target&v1=Mars'\n",
    "s_url = 'https://astrogeology.usgs.gov'\n",
    "browser.visit(url)\n",
    "# browser.click_link_by_text('Cerberus Hemisphere Enhanced')\n",
    "# browser.click_link_by_href(\"/search/map/Mars/Viking/cerberus_enhanced\")\n",
    "xpath = '//*[@id=\"product-section\"]/div[2]/div[1]/div/a'\n",
    "browser.find_by_xpath(xpath).click()\n",
    "\n",
    "html=browser.html\n",
    "soup=bs(html,'html.parser')\n",
    "# featured_image = soup.find('div',class_=\"fancybox-inner\").find('img')['src']\n",
    "cerberus = soup.find('div',class_=\"container\").find_all('img')[2]['src']\n",
    "cerberus_path = s_url + cerberus\n",
    "print(cerberus_path)\n",
    "\n",
    "# Image 2\n",
    "url = 'https://astrogeology.usgs.gov/search/results?q=hemisphere+enhanced&k1=target&v1=Mars'\n",
    "s_url = 'https://astrogeology.usgs.gov'\n",
    "browser.visit(url)\n",
    "# browser.click_link_by_text('Cerberus Hemisphere Enhanced')\n",
    "# browser.click_link_by_href(\"/search/map/Mars/Viking/cerberus_enhanced\")\n",
    "xpath = '//*[@id=\"product-section\"]/div[2]/div[2]/div/a'\n",
    "browser.find_by_xpath(xpath).click()\n",
    "\n",
    "html=browser.html\n",
    "soup=bs(html,'html.parser')\n",
    "\n",
    "schiaparelli = soup.find('div',class_=\"container\").find_all('img')[2]['src']\n",
    "schiaparelli_path = s_url + schiaparelli\n",
    "print(schiaparelli_path)\n",
    "\n",
    "# Image 3\n",
    "url = 'https://astrogeology.usgs.gov/search/results?q=hemisphere+enhanced&k1=target&v1=Mars'\n",
    "s_url = 'https://astrogeology.usgs.gov'\n",
    "browser.visit(url)\n",
    "# browser.click_link_by_text('Cerberus Hemisphere Enhanced')\n",
    "# browser.click_link_by_href(\"/search/map/Mars/Viking/cerberus_enhanced\")\n",
    "xpath = '//*[@id=\"product-section\"]/div[2]/div[3]/div/a'\n",
    "browser.find_by_xpath(xpath).click()\n",
    "\n",
    "html=browser.html\n",
    "soup=bs(html,'html.parser')\n",
    "\n",
    "syrtis = soup.find('div',class_=\"container\").find_all('img')[2]['src']\n",
    "syrtis_path = s_url + syrtis\n",
    "print(syrtis_path)\n",
    "\n",
    "# Image 4\n",
    "url = 'https://astrogeology.usgs.gov/search/results?q=hemisphere+enhanced&k1=target&v1=Mars'\n",
    "s_url = 'https://astrogeology.usgs.gov'\n",
    "browser.visit(url)\n",
    "# browser.click_link_by_text('Cerberus Hemisphere Enhanced')\n",
    "# browser.click_link_by_href(\"/search/map/Mars/Viking/cerberus_enhanced\")\n",
    "xpath = '//*[@id=\"product-section\"]/div[2]/div[4]/div/a'\n",
    "browser.find_by_xpath(xpath).click()\n",
    "\n",
    "html=browser.html\n",
    "soup=bs(html,'html.parser')\n",
    "\n",
    "valles = soup.find('div',class_=\"container\").find_all('img')[2]['src']\n",
    "valles_path = s_url + valles\n",
    "print(valles_path)"
   ]
  }
 ],
 "metadata": {
  "kernelspec": {
   "display_name": "Python [conda env:pandas] *",
   "language": "python",
   "name": "conda-env-pandas-py"
  },
  "language_info": {
   "codemirror_mode": {
    "name": "ipython",
    "version": 3
   },
   "file_extension": ".py",
   "mimetype": "text/x-python",
   "name": "python",
   "nbconvert_exporter": "python",
   "pygments_lexer": "ipython3",
   "version": "3.6.9"
  }
 },
 "nbformat": 4,
 "nbformat_minor": 1
}
